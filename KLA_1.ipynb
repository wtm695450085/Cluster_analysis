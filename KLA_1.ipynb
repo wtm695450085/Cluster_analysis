{
 "cells": [
  {
   "cell_type": "markdown",
   "id": "81730a12",
   "metadata": {},
   "source": [
    "## KLASTROWANIE "
   ]
  },
  {
   "cell_type": "markdown",
   "id": "3b617b1d",
   "metadata": {},
   "source": [
    "https://realpython.com/k-means-clustering-python/"
   ]
  },
  {
   "cell_type": "code",
   "execution_count": 3,
   "id": "75a4bf4e",
   "metadata": {},
   "outputs": [],
   "source": [
    "import matplotlib.pyplot as plt\n",
    "from kneed import KneeLocator\n",
    "from sklearn.datasets import make_blobs\n",
    "from sklearn.cluster import KMeans\n",
    "from sklearn.metrics import silhouette_score\n",
    "from sklearn.preprocessing import StandardScaler"
   ]
  },
  {
   "cell_type": "code",
   "execution_count": 7,
   "id": "ac14bfc9",
   "metadata": {},
   "outputs": [],
   "source": [
    "features, true_labels = make_blobs(\n",
    "    n_samples=2000,       #ILE wierszy\n",
    "    centers=3,\n",
    "    cluster_std=2.75,\n",
    "    random_state=42\n",
    ")"
   ]
  },
  {
   "cell_type": "code",
   "execution_count": 9,
   "id": "cc29be6c",
   "metadata": {},
   "outputs": [
    {
     "data": {
      "text/plain": [
       "(2000, 2)"
      ]
     },
     "execution_count": 9,
     "metadata": {},
     "output_type": "execute_result"
    }
   ],
   "source": [
    "features.shape"
   ]
  },
  {
   "cell_type": "code",
   "execution_count": 10,
   "id": "92ce80de",
   "metadata": {},
   "outputs": [
    {
     "data": {
      "text/plain": [
       "array([[ 4.28640068, -3.20191519],\n",
       "       [ 6.12890134,  4.06084637],\n",
       "       [ 0.92442433, -1.6635897 ],\n",
       "       [-7.02786553, -9.58144444]])"
      ]
     },
     "execution_count": 10,
     "metadata": {},
     "output_type": "execute_result"
    }
   ],
   "source": [
    "features[:4]"
   ]
  },
  {
   "cell_type": "markdown",
   "id": "372db439",
   "metadata": {},
   "source": [
    "Algorytm uczenia maszynowego uznałby wagę za ważniejszą niż wzrost tylko dlatego, że wartości wagi są większe i mają większą zmienność w zależności od osoby.\n",
    "\n",
    "Algorytmy uczenia maszynowego muszą uwzględniać wszystkie funkcje na równych zasadach. Oznacza to, że wartości dla wszystkich cech muszą zostać przekształcone do tej samej skali.\n",
    "\n",
    "Proces przekształcania cech liczbowych w celu użycia tej samej skali jest znany jako skalowanie cech . Jest to ważny etap wstępnego przetwarzania danych w przypadku większości algorytmów uczenia maszynowego opartych na odległości, ponieważ może mieć znaczący wpływ na wydajność algorytmu."
   ]
  },
  {
   "cell_type": "markdown",
   "id": "e4c3f725",
   "metadata": {},
   "source": [
    "### Sklowanie\n"
   ]
  },
  {
   "cell_type": "code",
   "execution_count": 11,
   "id": "f1f3bfbb",
   "metadata": {},
   "outputs": [],
   "source": [
    "scaler = StandardScaler()\n",
    "scaled_features = scaler.fit_transform(features)"
   ]
  },
  {
   "cell_type": "code",
   "execution_count": null,
   "id": "83bfae68",
   "metadata": {},
   "outputs": [],
   "source": []
  }
 ],
 "metadata": {
  "kernelspec": {
   "display_name": "Python 3 (ipykernel)",
   "language": "python",
   "name": "python3"
  },
  "language_info": {
   "codemirror_mode": {
    "name": "ipython",
    "version": 3
   },
   "file_extension": ".py",
   "mimetype": "text/x-python",
   "name": "python",
   "nbconvert_exporter": "python",
   "pygments_lexer": "ipython3",
   "version": "3.9.13"
  }
 },
 "nbformat": 4,
 "nbformat_minor": 5
}
