{
 "cells": [
  {
   "cell_type": "markdown",
   "id": "385e33d2",
   "metadata": {},
   "source": [
    "# Coercion clustering techniques krok 7"
   ]
  },
  {
   "cell_type": "code",
   "execution_count": 1,
   "id": "98088cc0",
   "metadata": {},
   "outputs": [],
   "source": [
    "import pandas as pd\n",
    "import numpy as np\n",
    "import matplotlib.pyplot as plt\n",
    "%matplotlib inline"
   ]
  },
  {
   "cell_type": "code",
   "execution_count": 2,
   "id": "c775c8f5",
   "metadata": {},
   "outputs": [
    {
     "data": {
      "text/html": [
       "<div>\n",
       "<style scoped>\n",
       "    .dataframe tbody tr th:only-of-type {\n",
       "        vertical-align: middle;\n",
       "    }\n",
       "\n",
       "    .dataframe tbody tr th {\n",
       "        vertical-align: top;\n",
       "    }\n",
       "\n",
       "    .dataframe thead th {\n",
       "        text-align: right;\n",
       "    }\n",
       "</style>\n",
       "<table border=\"1\" class=\"dataframe\">\n",
       "  <thead>\n",
       "    <tr style=\"text-align: right;\">\n",
       "      <th></th>\n",
       "      <th>Channel</th>\n",
       "      <th>Region</th>\n",
       "      <th>Fresh</th>\n",
       "      <th>Milk</th>\n",
       "      <th>Grocery</th>\n",
       "      <th>Frozen</th>\n",
       "      <th>Detergents_Paper</th>\n",
       "      <th>Delicassen</th>\n",
       "    </tr>\n",
       "  </thead>\n",
       "  <tbody>\n",
       "    <tr>\n",
       "      <th>0</th>\n",
       "      <td>2</td>\n",
       "      <td>3</td>\n",
       "      <td>12669</td>\n",
       "      <td>9656</td>\n",
       "      <td>7561</td>\n",
       "      <td>214</td>\n",
       "      <td>2674</td>\n",
       "      <td>1338</td>\n",
       "    </tr>\n",
       "    <tr>\n",
       "      <th>1</th>\n",
       "      <td>2</td>\n",
       "      <td>3</td>\n",
       "      <td>7057</td>\n",
       "      <td>9810</td>\n",
       "      <td>9568</td>\n",
       "      <td>1762</td>\n",
       "      <td>3293</td>\n",
       "      <td>1776</td>\n",
       "    </tr>\n",
       "    <tr>\n",
       "      <th>2</th>\n",
       "      <td>2</td>\n",
       "      <td>3</td>\n",
       "      <td>6353</td>\n",
       "      <td>8808</td>\n",
       "      <td>7684</td>\n",
       "      <td>2405</td>\n",
       "      <td>3516</td>\n",
       "      <td>7844</td>\n",
       "    </tr>\n",
       "    <tr>\n",
       "      <th>3</th>\n",
       "      <td>1</td>\n",
       "      <td>3</td>\n",
       "      <td>13265</td>\n",
       "      <td>1196</td>\n",
       "      <td>4221</td>\n",
       "      <td>6404</td>\n",
       "      <td>507</td>\n",
       "      <td>1788</td>\n",
       "    </tr>\n",
       "    <tr>\n",
       "      <th>4</th>\n",
       "      <td>2</td>\n",
       "      <td>3</td>\n",
       "      <td>22615</td>\n",
       "      <td>5410</td>\n",
       "      <td>7198</td>\n",
       "      <td>3915</td>\n",
       "      <td>1777</td>\n",
       "      <td>5185</td>\n",
       "    </tr>\n",
       "  </tbody>\n",
       "</table>\n",
       "</div>"
      ],
      "text/plain": [
       "   Channel  Region  Fresh  Milk  Grocery  Frozen  Detergents_Paper  Delicassen\n",
       "0        2       3  12669  9656     7561     214              2674        1338\n",
       "1        2       3   7057  9810     9568    1762              3293        1776\n",
       "2        2       3   6353  8808     7684    2405              3516        7844\n",
       "3        1       3  13265  1196     4221    6404               507        1788\n",
       "4        2       3  22615  5410     7198    3915              1777        5185"
      ]
     },
     "execution_count": 2,
     "metadata": {},
     "output_type": "execute_result"
    }
   ],
   "source": [
    "data = pd.read_csv('/home/wmoszczy/2/Wholesale customers data.csv')\n",
    "data.head()"
   ]
  },
  {
   "cell_type": "code",
   "execution_count": 3,
   "id": "63d58b1a",
   "metadata": {},
   "outputs": [
    {
     "data": {
      "text/plain": [
       "(440, 8)"
      ]
     },
     "execution_count": 3,
     "metadata": {},
     "output_type": "execute_result"
    }
   ],
   "source": [
    "## 440 klientów według 7 cech\n",
    "\n",
    "data.shape"
   ]
  },
  {
   "cell_type": "code",
   "execution_count": 4,
   "id": "b17dc420",
   "metadata": {},
   "outputs": [
    {
     "data": {
      "text/plain": [
       "1    298\n",
       "2    142\n",
       "Name: Channel, dtype: int64"
      ]
     },
     "execution_count": 4,
     "metadata": {},
     "output_type": "execute_result"
    }
   ],
   "source": [
    "data.Channel.value_counts()"
   ]
  },
  {
   "cell_type": "code",
   "execution_count": 5,
   "id": "58eb3b55",
   "metadata": {},
   "outputs": [
    {
     "data": {
      "text/plain": [
       "3    316\n",
       "1     77\n",
       "2     47\n",
       "Name: Region, dtype: int64"
      ]
     },
     "execution_count": 5,
     "metadata": {},
     "output_type": "execute_result"
    }
   ],
   "source": [
    "data.Region.value_counts()"
   ]
  },
  {
   "cell_type": "markdown",
   "id": "16a3379d",
   "metadata": {},
   "source": [
    "## NORMALIZACJA"
   ]
  },
  {
   "cell_type": "code",
   "execution_count": 6,
   "id": "a74595dd",
   "metadata": {},
   "outputs": [
    {
     "data": {
      "text/html": [
       "<div>\n",
       "<style scoped>\n",
       "    .dataframe tbody tr th:only-of-type {\n",
       "        vertical-align: middle;\n",
       "    }\n",
       "\n",
       "    .dataframe tbody tr th {\n",
       "        vertical-align: top;\n",
       "    }\n",
       "\n",
       "    .dataframe thead th {\n",
       "        text-align: right;\n",
       "    }\n",
       "</style>\n",
       "<table border=\"1\" class=\"dataframe\">\n",
       "  <thead>\n",
       "    <tr style=\"text-align: right;\">\n",
       "      <th></th>\n",
       "      <th>Channel</th>\n",
       "      <th>Region</th>\n",
       "      <th>Fresh</th>\n",
       "      <th>Milk</th>\n",
       "      <th>Grocery</th>\n",
       "      <th>Frozen</th>\n",
       "      <th>Detergents_Paper</th>\n",
       "      <th>Delicassen</th>\n",
       "    </tr>\n",
       "  </thead>\n",
       "  <tbody>\n",
       "    <tr>\n",
       "      <th>0</th>\n",
       "      <td>0.000112</td>\n",
       "      <td>0.000168</td>\n",
       "      <td>0.708333</td>\n",
       "      <td>0.539874</td>\n",
       "      <td>0.422741</td>\n",
       "      <td>0.011965</td>\n",
       "      <td>0.149505</td>\n",
       "      <td>0.074809</td>\n",
       "    </tr>\n",
       "    <tr>\n",
       "      <th>1</th>\n",
       "      <td>0.000125</td>\n",
       "      <td>0.000188</td>\n",
       "      <td>0.442198</td>\n",
       "      <td>0.614704</td>\n",
       "      <td>0.599540</td>\n",
       "      <td>0.110409</td>\n",
       "      <td>0.206342</td>\n",
       "      <td>0.111286</td>\n",
       "    </tr>\n",
       "    <tr>\n",
       "      <th>2</th>\n",
       "      <td>0.000125</td>\n",
       "      <td>0.000187</td>\n",
       "      <td>0.396552</td>\n",
       "      <td>0.549792</td>\n",
       "      <td>0.479632</td>\n",
       "      <td>0.150119</td>\n",
       "      <td>0.219467</td>\n",
       "      <td>0.489619</td>\n",
       "    </tr>\n",
       "    <tr>\n",
       "      <th>3</th>\n",
       "      <td>0.000065</td>\n",
       "      <td>0.000194</td>\n",
       "      <td>0.856837</td>\n",
       "      <td>0.077254</td>\n",
       "      <td>0.272650</td>\n",
       "      <td>0.413659</td>\n",
       "      <td>0.032749</td>\n",
       "      <td>0.115494</td>\n",
       "    </tr>\n",
       "    <tr>\n",
       "      <th>4</th>\n",
       "      <td>0.000079</td>\n",
       "      <td>0.000119</td>\n",
       "      <td>0.895416</td>\n",
       "      <td>0.214203</td>\n",
       "      <td>0.284997</td>\n",
       "      <td>0.155010</td>\n",
       "      <td>0.070358</td>\n",
       "      <td>0.205294</td>\n",
       "    </tr>\n",
       "  </tbody>\n",
       "</table>\n",
       "</div>"
      ],
      "text/plain": [
       "    Channel    Region     Fresh      Milk   Grocery    Frozen  \\\n",
       "0  0.000112  0.000168  0.708333  0.539874  0.422741  0.011965   \n",
       "1  0.000125  0.000188  0.442198  0.614704  0.599540  0.110409   \n",
       "2  0.000125  0.000187  0.396552  0.549792  0.479632  0.150119   \n",
       "3  0.000065  0.000194  0.856837  0.077254  0.272650  0.413659   \n",
       "4  0.000079  0.000119  0.895416  0.214203  0.284997  0.155010   \n",
       "\n",
       "   Detergents_Paper  Delicassen  \n",
       "0          0.149505    0.074809  \n",
       "1          0.206342    0.111286  \n",
       "2          0.219467    0.489619  \n",
       "3          0.032749    0.115494  \n",
       "4          0.070358    0.205294  "
      ]
     },
     "execution_count": 6,
     "metadata": {},
     "output_type": "execute_result"
    }
   ],
   "source": [
    "from sklearn.preprocessing import normalize\n",
    "data_scaled = normalize(data)\n",
    "data_scaled = pd.DataFrame(data_scaled, columns=data.columns)\n",
    "data_scaled.head()"
   ]
  },
  {
   "cell_type": "markdown",
   "id": "4f1582b5",
   "metadata": {},
   "source": [
    "##  dendrogram, który pomoże nam określić liczbę klastrów dla tego konkretnego problemu"
   ]
  },
  {
   "cell_type": "code",
   "execution_count": 7,
   "id": "4d5c69a9",
   "metadata": {},
   "outputs": [
    {
     "data": {
      "image/png": "[encoded data removed]",
      "text/plain": [
       "<Figure size 1600x300 with 1 Axes>"
      ]
     },
     "metadata": {},
     "output_type": "display_data"
    }
   ],
   "source": [
    "import scipy.cluster.hierarchy as shc\n",
    "plt.figure(figsize=(16, 3))  \n",
    "plt.title(\"Dendrograms\")  \n",
    "dend = shc.dendrogram(shc.linkage(data_scaled, method='ward'))"
   ]
  },
  {
   "cell_type": "markdown",
   "id": "bea32ad4",
   "metadata": {},
   "source": [
    "Oś x zawiera próbki, a oś y przedstawia odległość między tymi próbkami. Linia pionowa z maksymalną odległością jest linią niebieską, dlatego możemy ustalić próg 6 i wyciąć dendrogram:"
   ]
  },
  {
   "cell_type": "markdown",
   "id": "458e5757",
   "metadata": {},
   "source": [
    "## Co to za próbki?"
   ]
  },
  {
   "cell_type": "code",
   "execution_count": 8,
   "id": "37286305",
   "metadata": {},
   "outputs": [],
   "source": [
    "data2 = data.head(20)"
   ]
  },
  {
   "cell_type": "code",
   "execution_count": 9,
   "id": "70f7ec34",
   "metadata": {},
   "outputs": [
    {
     "data": {
      "text/html": [
       "<div>\n",
       "<style scoped>\n",
       "    .dataframe tbody tr th:only-of-type {\n",
       "        vertical-align: middle;\n",
       "    }\n",
       "\n",
       "    .dataframe tbody tr th {\n",
       "        vertical-align: top;\n",
       "    }\n",
       "\n",
       "    .dataframe thead th {\n",
       "        text-align: right;\n",
       "    }\n",
       "</style>\n",
       "<table border=\"1\" class=\"dataframe\">\n",
       "  <thead>\n",
       "    <tr style=\"text-align: right;\">\n",
       "      <th></th>\n",
       "      <th>Channel</th>\n",
       "      <th>Region</th>\n",
       "      <th>Fresh</th>\n",
       "      <th>Milk</th>\n",
       "      <th>Grocery</th>\n",
       "      <th>Frozen</th>\n",
       "      <th>Detergents_Paper</th>\n",
       "      <th>Delicassen</th>\n",
       "    </tr>\n",
       "  </thead>\n",
       "  <tbody>\n",
       "    <tr>\n",
       "      <th>0</th>\n",
       "      <td>0.000112</td>\n",
       "      <td>0.000168</td>\n",
       "      <td>0.708333</td>\n",
       "      <td>0.539874</td>\n",
       "      <td>0.422741</td>\n",
       "      <td>0.011965</td>\n",
       "      <td>0.149505</td>\n",
       "      <td>0.074809</td>\n",
       "    </tr>\n",
       "    <tr>\n",
       "      <th>1</th>\n",
       "      <td>0.000125</td>\n",
       "      <td>0.000188</td>\n",
       "      <td>0.442198</td>\n",
       "      <td>0.614704</td>\n",
       "      <td>0.599540</td>\n",
       "      <td>0.110409</td>\n",
       "      <td>0.206342</td>\n",
       "      <td>0.111286</td>\n",
       "    </tr>\n",
       "    <tr>\n",
       "      <th>2</th>\n",
       "      <td>0.000125</td>\n",
       "      <td>0.000187</td>\n",
       "      <td>0.396552</td>\n",
       "      <td>0.549792</td>\n",
       "      <td>0.479632</td>\n",
       "      <td>0.150119</td>\n",
       "      <td>0.219467</td>\n",
       "      <td>0.489619</td>\n",
       "    </tr>\n",
       "    <tr>\n",
       "      <th>3</th>\n",
       "      <td>0.000065</td>\n",
       "      <td>0.000194</td>\n",
       "      <td>0.856837</td>\n",
       "      <td>0.077254</td>\n",
       "      <td>0.272650</td>\n",
       "      <td>0.413659</td>\n",
       "      <td>0.032749</td>\n",
       "      <td>0.115494</td>\n",
       "    </tr>\n",
       "    <tr>\n",
       "      <th>4</th>\n",
       "      <td>0.000079</td>\n",
       "      <td>0.000119</td>\n",
       "      <td>0.895416</td>\n",
       "      <td>0.214203</td>\n",
       "      <td>0.284997</td>\n",
       "      <td>0.155010</td>\n",
       "      <td>0.070358</td>\n",
       "      <td>0.205294</td>\n",
       "    </tr>\n",
       "    <tr>\n",
       "      <th>5</th>\n",
       "      <td>0.000146</td>\n",
       "      <td>0.000218</td>\n",
       "      <td>0.684944</td>\n",
       "      <td>0.600972</td>\n",
       "      <td>0.372997</td>\n",
       "      <td>0.048462</td>\n",
       "      <td>0.130615</td>\n",
       "      <td>0.105583</td>\n",
       "    </tr>\n",
       "    <tr>\n",
       "      <th>6</th>\n",
       "      <td>0.000136</td>\n",
       "      <td>0.000204</td>\n",
       "      <td>0.824476</td>\n",
       "      <td>0.217508</td>\n",
       "      <td>0.474247</td>\n",
       "      <td>0.032636</td>\n",
       "      <td>0.213496</td>\n",
       "      <td>0.037056</td>\n",
       "    </tr>\n",
       "    <tr>\n",
       "      <th>7</th>\n",
       "      <td>0.000145</td>\n",
       "      <td>0.000217</td>\n",
       "      <td>0.548036</td>\n",
       "      <td>0.358368</td>\n",
       "      <td>0.681593</td>\n",
       "      <td>0.120685</td>\n",
       "      <td>0.240141</td>\n",
       "      <td>0.185547</td>\n",
       "    </tr>\n",
       "    <tr>\n",
       "      <th>8</th>\n",
       "      <td>0.000105</td>\n",
       "      <td>0.000315</td>\n",
       "      <td>0.625457</td>\n",
       "      <td>0.382637</td>\n",
       "      <td>0.649477</td>\n",
       "      <td>0.044578</td>\n",
       "      <td>0.179991</td>\n",
       "      <td>0.078667</td>\n",
       "    </tr>\n",
       "    <tr>\n",
       "      <th>9</th>\n",
       "      <td>0.000083</td>\n",
       "      <td>0.000125</td>\n",
       "      <td>0.250143</td>\n",
       "      <td>0.462010</td>\n",
       "      <td>0.786371</td>\n",
       "      <td>0.048271</td>\n",
       "      <td>0.309242</td>\n",
       "      <td>0.087379</td>\n",
       "    </tr>\n",
       "    <tr>\n",
       "      <th>10</th>\n",
       "      <td>0.000122</td>\n",
       "      <td>0.000184</td>\n",
       "      <td>0.206006</td>\n",
       "      <td>0.330675</td>\n",
       "      <td>0.794036</td>\n",
       "      <td>0.269289</td>\n",
       "      <td>0.365805</td>\n",
       "      <td>0.106736</td>\n",
       "    </tr>\n",
       "    <tr>\n",
       "      <th>11</th>\n",
       "      <td>0.000142</td>\n",
       "      <td>0.000214</td>\n",
       "      <td>0.936369</td>\n",
       "      <td>0.080061</td>\n",
       "      <td>0.322166</td>\n",
       "      <td>0.101144</td>\n",
       "      <td>0.039104</td>\n",
       "      <td>0.035401</td>\n",
       "    </tr>\n",
       "    <tr>\n",
       "      <th>12</th>\n",
       "      <td>0.000055</td>\n",
       "      <td>0.000083</td>\n",
       "      <td>0.873065</td>\n",
       "      <td>0.339134</td>\n",
       "      <td>0.323662</td>\n",
       "      <td>0.007901</td>\n",
       "      <td>0.106841</td>\n",
       "      <td>0.080688</td>\n",
       "    </tr>\n",
       "    <tr>\n",
       "      <th>13</th>\n",
       "      <td>0.000072</td>\n",
       "      <td>0.000108</td>\n",
       "      <td>0.765560</td>\n",
       "      <td>0.223999</td>\n",
       "      <td>0.540586</td>\n",
       "      <td>0.111675</td>\n",
       "      <td>0.242004</td>\n",
       "      <td>0.021722</td>\n",
       "    </tr>\n",
       "    <tr>\n",
       "      <th>14</th>\n",
       "      <td>0.000068</td>\n",
       "      <td>0.000101</td>\n",
       "      <td>0.833939</td>\n",
       "      <td>0.320173</td>\n",
       "      <td>0.409003</td>\n",
       "      <td>0.009945</td>\n",
       "      <td>0.171097</td>\n",
       "      <td>0.073337</td>\n",
       "    </tr>\n",
       "    <tr>\n",
       "      <th>15</th>\n",
       "      <td>0.000090</td>\n",
       "      <td>0.000271</td>\n",
       "      <td>0.927421</td>\n",
       "      <td>0.100765</td>\n",
       "      <td>0.345623</td>\n",
       "      <td>0.035910</td>\n",
       "      <td>0.087197</td>\n",
       "      <td>0.037267</td>\n",
       "    </tr>\n",
       "    <tr>\n",
       "      <th>16</th>\n",
       "      <td>0.000127</td>\n",
       "      <td>0.000191</td>\n",
       "      <td>0.064876</td>\n",
       "      <td>0.560736</td>\n",
       "      <td>0.770948</td>\n",
       "      <td>0.008523</td>\n",
       "      <td>0.286728</td>\n",
       "      <td>0.068693</td>\n",
       "    </tr>\n",
       "    <tr>\n",
       "      <th>17</th>\n",
       "      <td>0.000099</td>\n",
       "      <td>0.000297</td>\n",
       "      <td>0.582005</td>\n",
       "      <td>0.609838</td>\n",
       "      <td>0.290507</td>\n",
       "      <td>0.083101</td>\n",
       "      <td>0.036648</td>\n",
       "      <td>0.443536</td>\n",
       "    </tr>\n",
       "    <tr>\n",
       "      <th>18</th>\n",
       "      <td>0.000089</td>\n",
       "      <td>0.000133</td>\n",
       "      <td>0.823138</td>\n",
       "      <td>0.279985</td>\n",
       "      <td>0.446904</td>\n",
       "      <td>0.097576</td>\n",
       "      <td>0.122446</td>\n",
       "      <td>0.140767</td>\n",
       "    </tr>\n",
       "    <tr>\n",
       "      <th>19</th>\n",
       "      <td>0.000078</td>\n",
       "      <td>0.000235</td>\n",
       "      <td>0.608706</td>\n",
       "      <td>0.195208</td>\n",
       "      <td>0.740461</td>\n",
       "      <td>0.052342</td>\n",
       "      <td>0.197008</td>\n",
       "      <td>0.039198</td>\n",
       "    </tr>\n",
       "  </tbody>\n",
       "</table>\n",
       "</div>"
      ],
      "text/plain": [
       "     Channel    Region     Fresh      Milk   Grocery    Frozen  \\\n",
       "0   0.000112  0.000168  0.708333  0.539874  0.422741  0.011965   \n",
       "1   0.000125  0.000188  0.442198  0.614704  0.599540  0.110409   \n",
       "2   0.000125  0.000187  0.396552  0.549792  0.479632  0.150119   \n",
       "3   0.000065  0.000194  0.856837  0.077254  0.272650  0.413659   \n",
       "4   0.000079  0.000119  0.895416  0.214203  0.284997  0.155010   \n",
       "5   0.000146  0.000218  0.684944  0.600972  0.372997  0.048462   \n",
       "6   0.000136  0.000204  0.824476  0.217508  0.474247  0.032636   \n",
       "7   0.000145  0.000217  0.548036  0.358368  0.681593  0.120685   \n",
       "8   0.000105  0.000315  0.625457  0.382637  0.649477  0.044578   \n",
       "9   0.000083  0.000125  0.250143  0.462010  0.786371  0.048271   \n",
       "10  0.000122  0.000184  0.206006  0.330675  0.794036  0.269289   \n",
       "11  0.000142  0.000214  0.936369  0.080061  0.322166  0.101144   \n",
       "12  0.000055  0.000083  0.873065  0.339134  0.323662  0.007901   \n",
       "13  0.000072  0.000108  0.765560  0.223999  0.540586  0.111675   \n",
       "14  0.000068  0.000101  0.833939  0.320173  0.409003  0.009945   \n",
       "15  0.000090  0.000271  0.927421  0.100765  0.345623  0.035910   \n",
       "16  0.000127  0.000191  0.064876  0.560736  0.770948  0.008523   \n",
       "17  0.000099  0.000297  0.582005  0.609838  0.290507  0.083101   \n",
       "18  0.000089  0.000133  0.823138  0.279985  0.446904  0.097576   \n",
       "19  0.000078  0.000235  0.608706  0.195208  0.740461  0.052342   \n",
       "\n",
       "    Detergents_Paper  Delicassen  \n",
       "0           0.149505    0.074809  \n",
       "1           0.206342    0.111286  \n",
       "2           0.219467    0.489619  \n",
       "3           0.032749    0.115494  \n",
       "4           0.070358    0.205294  \n",
       "5           0.130615    0.105583  \n",
       "6           0.213496    0.037056  \n",
       "7           0.240141    0.185547  \n",
       "8           0.179991    0.078667  \n",
       "9           0.309242    0.087379  \n",
       "10          0.365805    0.106736  \n",
       "11          0.039104    0.035401  \n",
       "12          0.106841    0.080688  \n",
       "13          0.242004    0.021722  \n",
       "14          0.171097    0.073337  \n",
       "15          0.087197    0.037267  \n",
       "16          0.286728    0.068693  \n",
       "17          0.036648    0.443536  \n",
       "18          0.122446    0.140767  \n",
       "19          0.197008    0.039198  "
      ]
     },
     "execution_count": 9,
     "metadata": {},
     "output_type": "execute_result"
    }
   ],
   "source": [
    "data_scaled2 = normalize(data2)\n",
    "data_scaled2 = pd.DataFrame(data_scaled2, columns=data2.columns)\n",
    "data_scaled2"
   ]
  },
  {
   "cell_type": "code",
   "execution_count": 10,
   "id": "5e90ba66",
   "metadata": {},
   "outputs": [
    {
     "data": {
      "image/png": "[encoded data removed]",
      "text/plain": [
       "<Figure size 1600x300 with 1 Axes>"
      ]
     },
     "metadata": {},
     "output_type": "display_data"
    }
   ],
   "source": [
    "plt.figure(figsize=(16, 3))  \n",
    "plt.title(\"Dendrograms\")  \n",
    "dend = shc.dendrogram(shc.linkage(data_scaled2, method='ward'))"
   ]
  },
  {
   "cell_type": "markdown",
   "id": "b8aa2272",
   "metadata": {},
   "source": [
    "# Analizujemy próbkę ('transakcji') 6 i 13"
   ]
  },
  {
   "cell_type": "code",
   "execution_count": 11,
   "id": "172794c5",
   "metadata": {},
   "outputs": [
    {
     "data": {
      "text/html": [
       "<div>\n",
       "<style scoped>\n",
       "    .dataframe tbody tr th:only-of-type {\n",
       "        vertical-align: middle;\n",
       "    }\n",
       "\n",
       "    .dataframe tbody tr th {\n",
       "        vertical-align: top;\n",
       "    }\n",
       "\n",
       "    .dataframe thead th {\n",
       "        text-align: right;\n",
       "    }\n",
       "</style>\n",
       "<table border=\"1\" class=\"dataframe\">\n",
       "  <thead>\n",
       "    <tr style=\"text-align: right;\">\n",
       "      <th></th>\n",
       "      <th>Channel</th>\n",
       "      <th>Region</th>\n",
       "      <th>Fresh</th>\n",
       "      <th>Milk</th>\n",
       "      <th>Grocery</th>\n",
       "      <th>Frozen</th>\n",
       "      <th>Detergents_Paper</th>\n",
       "      <th>Delicassen</th>\n",
       "    </tr>\n",
       "  </thead>\n",
       "  <tbody>\n",
       "    <tr>\n",
       "      <th>6</th>\n",
       "      <td>0.000136</td>\n",
       "      <td>0.000204</td>\n",
       "      <td>0.824476</td>\n",
       "      <td>0.217508</td>\n",
       "      <td>0.474247</td>\n",
       "      <td>0.032636</td>\n",
       "      <td>0.213496</td>\n",
       "      <td>0.037056</td>\n",
       "    </tr>\n",
       "    <tr>\n",
       "      <th>13</th>\n",
       "      <td>0.000072</td>\n",
       "      <td>0.000108</td>\n",
       "      <td>0.765560</td>\n",
       "      <td>0.223999</td>\n",
       "      <td>0.540586</td>\n",
       "      <td>0.111675</td>\n",
       "      <td>0.242004</td>\n",
       "      <td>0.021722</td>\n",
       "    </tr>\n",
       "  </tbody>\n",
       "</table>\n",
       "</div>"
      ],
      "text/plain": [
       "     Channel    Region     Fresh      Milk   Grocery    Frozen  \\\n",
       "6   0.000136  0.000204  0.824476  0.217508  0.474247  0.032636   \n",
       "13  0.000072  0.000108  0.765560  0.223999  0.540586  0.111675   \n",
       "\n",
       "    Detergents_Paper  Delicassen  \n",
       "6           0.213496    0.037056  \n",
       "13          0.242004    0.021722  "
      ]
     },
     "execution_count": 11,
     "metadata": {},
     "output_type": "execute_result"
    }
   ],
   "source": [
    "data_scaled2.loc[[6, 13], :]"
   ]
  },
  {
   "cell_type": "markdown",
   "id": "ccaae491",
   "metadata": {},
   "source": [
    "# Analizujemy próbkę ('transakcji') 11 i 15"
   ]
  },
  {
   "cell_type": "code",
   "execution_count": 12,
   "id": "1854c18b",
   "metadata": {},
   "outputs": [
    {
     "data": {
      "text/html": [
       "<div>\n",
       "<style scoped>\n",
       "    .dataframe tbody tr th:only-of-type {\n",
       "        vertical-align: middle;\n",
       "    }\n",
       "\n",
       "    .dataframe tbody tr th {\n",
       "        vertical-align: top;\n",
       "    }\n",
       "\n",
       "    .dataframe thead th {\n",
       "        text-align: right;\n",
       "    }\n",
       "</style>\n",
       "<table border=\"1\" class=\"dataframe\">\n",
       "  <thead>\n",
       "    <tr style=\"text-align: right;\">\n",
       "      <th></th>\n",
       "      <th>Channel</th>\n",
       "      <th>Region</th>\n",
       "      <th>Fresh</th>\n",
       "      <th>Milk</th>\n",
       "      <th>Grocery</th>\n",
       "      <th>Frozen</th>\n",
       "      <th>Detergents_Paper</th>\n",
       "      <th>Delicassen</th>\n",
       "    </tr>\n",
       "  </thead>\n",
       "  <tbody>\n",
       "    <tr>\n",
       "      <th>11</th>\n",
       "      <td>0.000142</td>\n",
       "      <td>0.000214</td>\n",
       "      <td>0.936369</td>\n",
       "      <td>0.080061</td>\n",
       "      <td>0.322166</td>\n",
       "      <td>0.101144</td>\n",
       "      <td>0.039104</td>\n",
       "      <td>0.035401</td>\n",
       "    </tr>\n",
       "    <tr>\n",
       "      <th>15</th>\n",
       "      <td>0.000090</td>\n",
       "      <td>0.000271</td>\n",
       "      <td>0.927421</td>\n",
       "      <td>0.100765</td>\n",
       "      <td>0.345623</td>\n",
       "      <td>0.035910</td>\n",
       "      <td>0.087197</td>\n",
       "      <td>0.037267</td>\n",
       "    </tr>\n",
       "  </tbody>\n",
       "</table>\n",
       "</div>"
      ],
      "text/plain": [
       "     Channel    Region     Fresh      Milk   Grocery    Frozen  \\\n",
       "11  0.000142  0.000214  0.936369  0.080061  0.322166  0.101144   \n",
       "15  0.000090  0.000271  0.927421  0.100765  0.345623  0.035910   \n",
       "\n",
       "    Detergents_Paper  Delicassen  \n",
       "11          0.039104    0.035401  \n",
       "15          0.087197    0.037267  "
      ]
     },
     "execution_count": 12,
     "metadata": {},
     "output_type": "execute_result"
    }
   ],
   "source": [
    "data_scaled2.loc[[11, 15], :]"
   ]
  },
  {
   "cell_type": "markdown",
   "id": "08917f71",
   "metadata": {},
   "source": [
    "## Czy można takie coś zrobić dla klientów a nie dla transakcji?"
   ]
  },
  {
   "cell_type": "markdown",
   "id": "03fd3847",
   "metadata": {},
   "source": [
    "Tworzę grupę 100 fikcyjnych klientów"
   ]
  },
  {
   "cell_type": "code",
   "execution_count": 13,
   "id": "8f63d278",
   "metadata": {},
   "outputs": [],
   "source": [
    "data7 = data"
   ]
  },
  {
   "cell_type": "code",
   "execution_count": 14,
   "id": "5158c431",
   "metadata": {},
   "outputs": [],
   "source": [
    "data7['ID_custom1'] = (data7['Fresh']*4)+(data7['Frozen']*3)+ data7['Grocery']+(data7['Milk']/2)"
   ]
  },
  {
   "cell_type": "code",
   "execution_count": 15,
   "id": "c8653eb3",
   "metadata": {},
   "outputs": [],
   "source": [
    "data7['ID_customer'] = pd.qcut(data7['ID_custom1'],100)"
   ]
  },
  {
   "cell_type": "code",
   "execution_count": 16,
   "id": "3b7382e0",
   "metadata": {},
   "outputs": [
    {
     "data": {
      "text/plain": [
       "(2877.499, 5526.425]     5\n",
       "(34396.35, 34830.195]    5\n",
       "(36826.725, 37801.02]    5\n",
       "(40883.23, 41588.015]    5\n",
       "(43585.585, 44497.68]    5\n",
       "                        ..\n",
       "(62602.0, 63582.68]      4\n",
       "(23490.58, 24485.7]      4\n",
       "(64894.4, 65359.665]     4\n",
       "(65359.665, 68002.06]    4\n",
       "(53507.5, 53856.245]     4\n",
       "Name: ID_customer, Length: 100, dtype: int64"
      ]
     },
     "execution_count": 16,
     "metadata": {},
     "output_type": "execute_result"
    }
   ],
   "source": [
    "data7['ID_customer'].value_counts()"
   ]
  },
  {
   "cell_type": "markdown",
   "id": "f7fa0c18",
   "metadata": {},
   "source": [
    "### Koduje przedziały robiąc z nich ID"
   ]
  },
  {
   "cell_type": "code",
   "execution_count": 17,
   "id": "89a081de",
   "metadata": {},
   "outputs": [
    {
     "data": {
      "text/plain": [
       "61    5\n",
       "10    5\n",
       "30    5\n",
       "51    5\n",
       "58    5\n",
       "     ..\n",
       "62    4\n",
       "37    4\n",
       "3     4\n",
       "1     4\n",
       "54    4\n",
       "Name: ID_customer, Length: 100, dtype: int64"
      ]
     },
     "execution_count": 17,
     "metadata": {},
     "output_type": "execute_result"
    }
   ],
   "source": [
    "data7['ID_customer'] = pd.Categorical(data7['ID_customer']).codes\n",
    "data7['ID_customer'].value_counts()"
   ]
  },
  {
   "cell_type": "code",
   "execution_count": 18,
   "id": "9340da88",
   "metadata": {},
   "outputs": [
    {
     "data": {
      "text/html": [
       "<div>\n",
       "<style scoped>\n",
       "    .dataframe tbody tr th:only-of-type {\n",
       "        vertical-align: middle;\n",
       "    }\n",
       "\n",
       "    .dataframe tbody tr th {\n",
       "        vertical-align: top;\n",
       "    }\n",
       "\n",
       "    .dataframe thead th {\n",
       "        text-align: right;\n",
       "    }\n",
       "</style>\n",
       "<table border=\"1\" class=\"dataframe\">\n",
       "  <thead>\n",
       "    <tr style=\"text-align: right;\">\n",
       "      <th></th>\n",
       "      <th>Channel</th>\n",
       "      <th>Region</th>\n",
       "      <th>Fresh</th>\n",
       "      <th>Milk</th>\n",
       "      <th>Grocery</th>\n",
       "      <th>Frozen</th>\n",
       "      <th>Detergents_Paper</th>\n",
       "      <th>Delicassen</th>\n",
       "      <th>ID_custom1</th>\n",
       "      <th>ID_customer</th>\n",
       "    </tr>\n",
       "  </thead>\n",
       "  <tbody>\n",
       "    <tr>\n",
       "      <th>0</th>\n",
       "      <td>2</td>\n",
       "      <td>3</td>\n",
       "      <td>12669</td>\n",
       "      <td>9656</td>\n",
       "      <td>7561</td>\n",
       "      <td>214</td>\n",
       "      <td>2674</td>\n",
       "      <td>1338</td>\n",
       "      <td>63707.0</td>\n",
       "      <td>61</td>\n",
       "    </tr>\n",
       "    <tr>\n",
       "      <th>1</th>\n",
       "      <td>2</td>\n",
       "      <td>3</td>\n",
       "      <td>7057</td>\n",
       "      <td>9810</td>\n",
       "      <td>9568</td>\n",
       "      <td>1762</td>\n",
       "      <td>3293</td>\n",
       "      <td>1776</td>\n",
       "      <td>47987.0</td>\n",
       "      <td>46</td>\n",
       "    </tr>\n",
       "    <tr>\n",
       "      <th>2</th>\n",
       "      <td>2</td>\n",
       "      <td>3</td>\n",
       "      <td>6353</td>\n",
       "      <td>8808</td>\n",
       "      <td>7684</td>\n",
       "      <td>2405</td>\n",
       "      <td>3516</td>\n",
       "      <td>7844</td>\n",
       "      <td>44715.0</td>\n",
       "      <td>42</td>\n",
       "    </tr>\n",
       "    <tr>\n",
       "      <th>3</th>\n",
       "      <td>1</td>\n",
       "      <td>3</td>\n",
       "      <td>13265</td>\n",
       "      <td>1196</td>\n",
       "      <td>4221</td>\n",
       "      <td>6404</td>\n",
       "      <td>507</td>\n",
       "      <td>1788</td>\n",
       "      <td>77091.0</td>\n",
       "      <td>68</td>\n",
       "    </tr>\n",
       "    <tr>\n",
       "      <th>4</th>\n",
       "      <td>2</td>\n",
       "      <td>3</td>\n",
       "      <td>22615</td>\n",
       "      <td>5410</td>\n",
       "      <td>7198</td>\n",
       "      <td>3915</td>\n",
       "      <td>1777</td>\n",
       "      <td>5185</td>\n",
       "      <td>112108.0</td>\n",
       "      <td>84</td>\n",
       "    </tr>\n",
       "    <tr>\n",
       "      <th>...</th>\n",
       "      <td>...</td>\n",
       "      <td>...</td>\n",
       "      <td>...</td>\n",
       "      <td>...</td>\n",
       "      <td>...</td>\n",
       "      <td>...</td>\n",
       "      <td>...</td>\n",
       "      <td>...</td>\n",
       "      <td>...</td>\n",
       "      <td>...</td>\n",
       "    </tr>\n",
       "    <tr>\n",
       "      <th>435</th>\n",
       "      <td>1</td>\n",
       "      <td>3</td>\n",
       "      <td>29703</td>\n",
       "      <td>12051</td>\n",
       "      <td>16027</td>\n",
       "      <td>13135</td>\n",
       "      <td>182</td>\n",
       "      <td>2204</td>\n",
       "      <td>180269.5</td>\n",
       "      <td>95</td>\n",
       "    </tr>\n",
       "    <tr>\n",
       "      <th>436</th>\n",
       "      <td>1</td>\n",
       "      <td>3</td>\n",
       "      <td>39228</td>\n",
       "      <td>1431</td>\n",
       "      <td>764</td>\n",
       "      <td>4510</td>\n",
       "      <td>93</td>\n",
       "      <td>2346</td>\n",
       "      <td>171921.5</td>\n",
       "      <td>94</td>\n",
       "    </tr>\n",
       "    <tr>\n",
       "      <th>437</th>\n",
       "      <td>2</td>\n",
       "      <td>3</td>\n",
       "      <td>14531</td>\n",
       "      <td>15488</td>\n",
       "      <td>30243</td>\n",
       "      <td>437</td>\n",
       "      <td>14841</td>\n",
       "      <td>1867</td>\n",
       "      <td>97422.0</td>\n",
       "      <td>79</td>\n",
       "    </tr>\n",
       "    <tr>\n",
       "      <th>438</th>\n",
       "      <td>1</td>\n",
       "      <td>3</td>\n",
       "      <td>10290</td>\n",
       "      <td>1981</td>\n",
       "      <td>2232</td>\n",
       "      <td>1038</td>\n",
       "      <td>168</td>\n",
       "      <td>2125</td>\n",
       "      <td>47496.5</td>\n",
       "      <td>45</td>\n",
       "    </tr>\n",
       "    <tr>\n",
       "      <th>439</th>\n",
       "      <td>1</td>\n",
       "      <td>3</td>\n",
       "      <td>2787</td>\n",
       "      <td>1698</td>\n",
       "      <td>2510</td>\n",
       "      <td>65</td>\n",
       "      <td>477</td>\n",
       "      <td>52</td>\n",
       "      <td>14702.0</td>\n",
       "      <td>6</td>\n",
       "    </tr>\n",
       "  </tbody>\n",
       "</table>\n",
       "<p>440 rows × 10 columns</p>\n",
       "</div>"
      ],
      "text/plain": [
       "     Channel  Region  Fresh   Milk  Grocery  Frozen  Detergents_Paper  \\\n",
       "0          2       3  12669   9656     7561     214              2674   \n",
       "1          2       3   7057   9810     9568    1762              3293   \n",
       "2          2       3   6353   8808     7684    2405              3516   \n",
       "3          1       3  13265   1196     4221    6404               507   \n",
       "4          2       3  22615   5410     7198    3915              1777   \n",
       "..       ...     ...    ...    ...      ...     ...               ...   \n",
       "435        1       3  29703  12051    16027   13135               182   \n",
       "436        1       3  39228   1431      764    4510                93   \n",
       "437        2       3  14531  15488    30243     437             14841   \n",
       "438        1       3  10290   1981     2232    1038               168   \n",
       "439        1       3   2787   1698     2510      65               477   \n",
       "\n",
       "     Delicassen  ID_custom1  ID_customer  \n",
       "0          1338     63707.0           61  \n",
       "1          1776     47987.0           46  \n",
       "2          7844     44715.0           42  \n",
       "3          1788     77091.0           68  \n",
       "4          5185    112108.0           84  \n",
       "..          ...         ...          ...  \n",
       "435        2204    180269.5           95  \n",
       "436        2346    171921.5           94  \n",
       "437        1867     97422.0           79  \n",
       "438        2125     47496.5           45  \n",
       "439          52     14702.0            6  \n",
       "\n",
       "[440 rows x 10 columns]"
      ]
     },
     "execution_count": 18,
     "metadata": {},
     "output_type": "execute_result"
    }
   ],
   "source": [
    "#data7.reset_index()\n",
    "#data7 = data7.set_index(data7.ID_customer) \n",
    "#del data7.ID_customer\n",
    "#del data7.ID_custom2\n",
    "#del data7.ID_custom1\n",
    "\n",
    "data7"
   ]
  },
  {
   "cell_type": "code",
   "execution_count": 37,
   "id": "4fecac7a",
   "metadata": {},
   "outputs": [
    {
     "data": {
      "text/plain": [
       "array([[    2,     3, 12669, ...,  2674,  1338,    61],\n",
       "       [    2,     3,  7057, ...,  3293,  1776,    46],\n",
       "       [    2,     3,  6353, ...,  3516,  7844,    42],\n",
       "       ...,\n",
       "       [    2,     3, 14531, ..., 14841,  1867,    79],\n",
       "       [    1,     3, 10290, ...,   168,  2125,    45],\n",
       "       [    1,     3,  2787, ...,   477,    52,     6]])"
      ]
     },
     "execution_count": 37,
     "metadata": {},
     "output_type": "execute_result"
    }
   ],
   "source": [
    "data7.values"
   ]
  },
  {
   "cell_type": "code",
   "execution_count": 19,
   "id": "1616b141",
   "metadata": {},
   "outputs": [
    {
     "data": {
      "text/plain": [
       "Index(['Channel', 'Region', 'Fresh', 'Milk', 'Grocery', 'Frozen',\n",
       "       'Detergents_Paper', 'Delicassen', 'ID_custom1', 'ID_customer'],\n",
       "      dtype='object')"
      ]
     },
     "execution_count": 19,
     "metadata": {},
     "output_type": "execute_result"
    }
   ],
   "source": [
    "data7.columns"
   ]
  },
  {
   "cell_type": "code",
   "execution_count": 20,
   "id": "59beb488",
   "metadata": {},
   "outputs": [],
   "source": [
    "del data7['ID_custom1']"
   ]
  },
  {
   "cell_type": "markdown",
   "id": "b7b58349",
   "metadata": {},
   "source": [
    "## TABELA PRZESTAWNA OPARTA NA DOMINANCIE"
   ]
  },
  {
   "cell_type": "code",
   "execution_count": 21,
   "id": "092f2d4f",
   "metadata": {},
   "outputs": [
    {
     "data": {
      "text/html": [
       "<div>\n",
       "<style scoped>\n",
       "    .dataframe tbody tr th:only-of-type {\n",
       "        vertical-align: middle;\n",
       "    }\n",
       "\n",
       "    .dataframe tbody tr th {\n",
       "        vertical-align: top;\n",
       "    }\n",
       "\n",
       "    .dataframe thead th {\n",
       "        text-align: right;\n",
       "    }\n",
       "</style>\n",
       "<table border=\"1\" class=\"dataframe\">\n",
       "  <thead>\n",
       "    <tr style=\"text-align: right;\">\n",
       "      <th></th>\n",
       "      <th>ID_customer</th>\n",
       "      <th>Channel</th>\n",
       "      <th>Delicassen</th>\n",
       "      <th>Detergents_Paper</th>\n",
       "      <th>Fresh</th>\n",
       "      <th>Frozen</th>\n",
       "      <th>Grocery</th>\n",
       "      <th>Milk</th>\n",
       "      <th>Region</th>\n",
       "    </tr>\n",
       "  </thead>\n",
       "  <tbody>\n",
       "    <tr>\n",
       "      <th>0</th>\n",
       "      <td>0</td>\n",
       "      <td>1.00</td>\n",
       "      <td>195.80</td>\n",
       "      <td>124.60</td>\n",
       "      <td>440.20</td>\n",
       "      <td>354.40</td>\n",
       "      <td>1296.60</td>\n",
       "      <td>562.80</td>\n",
       "      <td>2.6</td>\n",
       "    </tr>\n",
       "    <tr>\n",
       "      <th>1</th>\n",
       "      <td>1</td>\n",
       "      <td>1.00</td>\n",
       "      <td>135.00</td>\n",
       "      <td>360.00</td>\n",
       "      <td>523.25</td>\n",
       "      <td>575.00</td>\n",
       "      <td>1981.75</td>\n",
       "      <td>831.25</td>\n",
       "      <td>2.5</td>\n",
       "    </tr>\n",
       "    <tr>\n",
       "      <th>2</th>\n",
       "      <td>2</td>\n",
       "      <td>1.00</td>\n",
       "      <td>417.40</td>\n",
       "      <td>1120.40</td>\n",
       "      <td>330.80</td>\n",
       "      <td>466.20</td>\n",
       "      <td>4173.20</td>\n",
       "      <td>3222.00</td>\n",
       "      <td>3.0</td>\n",
       "    </tr>\n",
       "    <tr>\n",
       "      <th>3</th>\n",
       "      <td>3</td>\n",
       "      <td>1.25</td>\n",
       "      <td>489.25</td>\n",
       "      <td>1074.50</td>\n",
       "      <td>859.50</td>\n",
       "      <td>372.50</td>\n",
       "      <td>3535.25</td>\n",
       "      <td>3315.75</td>\n",
       "      <td>3.0</td>\n",
       "    </tr>\n",
       "    <tr>\n",
       "      <th>4</th>\n",
       "      <td>4</td>\n",
       "      <td>1.00</td>\n",
       "      <td>925.00</td>\n",
       "      <td>2523.75</td>\n",
       "      <td>1228.75</td>\n",
       "      <td>563.75</td>\n",
       "      <td>2694.75</td>\n",
       "      <td>2910.50</td>\n",
       "      <td>2.5</td>\n",
       "    </tr>\n",
       "    <tr>\n",
       "      <th>...</th>\n",
       "      <td>...</td>\n",
       "      <td>...</td>\n",
       "      <td>...</td>\n",
       "      <td>...</td>\n",
       "      <td>...</td>\n",
       "      <td>...</td>\n",
       "      <td>...</td>\n",
       "      <td>...</td>\n",
       "      <td>...</td>\n",
       "    </tr>\n",
       "    <tr>\n",
       "      <th>95</th>\n",
       "      <td>95</td>\n",
       "      <td>1.00</td>\n",
       "      <td>1217.00</td>\n",
       "      <td>432.75</td>\n",
       "      <td>39472.25</td>\n",
       "      <td>4360.25</td>\n",
       "      <td>5154.25</td>\n",
       "      <td>3840.75</td>\n",
       "      <td>3.0</td>\n",
       "    </tr>\n",
       "    <tr>\n",
       "      <th>96</th>\n",
       "      <td>96</td>\n",
       "      <td>1.25</td>\n",
       "      <td>5333.50</td>\n",
       "      <td>10902.00</td>\n",
       "      <td>30254.50</td>\n",
       "      <td>10282.75</td>\n",
       "      <td>27805.75</td>\n",
       "      <td>18779.50</td>\n",
       "      <td>2.5</td>\n",
       "    </tr>\n",
       "    <tr>\n",
       "      <th>97</th>\n",
       "      <td>97</td>\n",
       "      <td>1.20</td>\n",
       "      <td>1344.40</td>\n",
       "      <td>6213.80</td>\n",
       "      <td>46268.60</td>\n",
       "      <td>4969.40</td>\n",
       "      <td>16300.20</td>\n",
       "      <td>11363.60</td>\n",
       "      <td>2.2</td>\n",
       "    </tr>\n",
       "    <tr>\n",
       "      <th>98</th>\n",
       "      <td>98</td>\n",
       "      <td>1.25</td>\n",
       "      <td>3800.00</td>\n",
       "      <td>6648.25</td>\n",
       "      <td>53197.50</td>\n",
       "      <td>10558.50</td>\n",
       "      <td>16875.75</td>\n",
       "      <td>15720.25</td>\n",
       "      <td>2.5</td>\n",
       "    </tr>\n",
       "    <tr>\n",
       "      <th>99</th>\n",
       "      <td>99</td>\n",
       "      <td>1.00</td>\n",
       "      <td>13085.20</td>\n",
       "      <td>1597.60</td>\n",
       "      <td>65380.60</td>\n",
       "      <td>27875.60</td>\n",
       "      <td>14331.00</td>\n",
       "      <td>19649.00</td>\n",
       "      <td>2.8</td>\n",
       "    </tr>\n",
       "  </tbody>\n",
       "</table>\n",
       "<p>100 rows × 9 columns</p>\n",
       "</div>"
      ],
      "text/plain": [
       "    ID_customer  Channel  Delicassen  Detergents_Paper     Fresh    Frozen  \\\n",
       "0             0     1.00      195.80            124.60    440.20    354.40   \n",
       "1             1     1.00      135.00            360.00    523.25    575.00   \n",
       "2             2     1.00      417.40           1120.40    330.80    466.20   \n",
       "3             3     1.25      489.25           1074.50    859.50    372.50   \n",
       "4             4     1.00      925.00           2523.75   1228.75    563.75   \n",
       "..          ...      ...         ...               ...       ...       ...   \n",
       "95           95     1.00     1217.00            432.75  39472.25   4360.25   \n",
       "96           96     1.25     5333.50          10902.00  30254.50  10282.75   \n",
       "97           97     1.20     1344.40           6213.80  46268.60   4969.40   \n",
       "98           98     1.25     3800.00           6648.25  53197.50  10558.50   \n",
       "99           99     1.00    13085.20           1597.60  65380.60  27875.60   \n",
       "\n",
       "     Grocery      Milk  Region  \n",
       "0    1296.60    562.80     2.6  \n",
       "1    1981.75    831.25     2.5  \n",
       "2    4173.20   3222.00     3.0  \n",
       "3    3535.25   3315.75     3.0  \n",
       "4    2694.75   2910.50     2.5  \n",
       "..       ...       ...     ...  \n",
       "95   5154.25   3840.75     3.0  \n",
       "96  27805.75  18779.50     2.5  \n",
       "97  16300.20  11363.60     2.2  \n",
       "98  16875.75  15720.25     2.5  \n",
       "99  14331.00  19649.00     2.8  \n",
       "\n",
       "[100 rows x 9 columns]"
      ]
     },
     "execution_count": 21,
     "metadata": {},
     "output_type": "execute_result"
    }
   ],
   "source": [
    "PA7 = data7.pivot_table(index=['ID_customer'],\n",
    "               values=['Channel',\n",
    "                       'Region',\n",
    "                       'Fresh',\n",
    "                       'Milk',\n",
    "                       'Grocery',\n",
    "                       'Frozen',\n",
    "                       'Detergents_Paper',\n",
    "                       'Delicassen'],\n",
    "               aggfunc='mean').reset_index()\n",
    "\n",
    "PA7"
   ]
  },
  {
   "cell_type": "markdown",
   "id": "1ca7e59a",
   "metadata": {},
   "source": [
    "## NORMALIZACJA PA7"
   ]
  },
  {
   "cell_type": "code",
   "execution_count": 22,
   "id": "f314933b",
   "metadata": {},
   "outputs": [],
   "source": [
    "from sklearn.preprocessing import normalize\n",
    "from sklearn.preprocessing import MinMaxScaler\n",
    "\n",
    "scaler = MinMaxScaler (feature_range = (0, 1)) \n",
    "\n",
    "PA8 = PA7\n",
    "\n",
    "PA8[['Channel', 'Region', 'Fresh', 'Milk', 'Grocery', 'Frozen',\n",
    "       'Detergents_Paper', 'Delicassen']] = scaler.fit_transform (PA8[['Channel', 'Region', 'Fresh', 'Milk', 'Grocery', 'Frozen',\n",
    "       'Detergents_Paper', 'Delicassen']])"
   ]
  },
  {
   "cell_type": "code",
   "execution_count": 46,
   "id": "61aeb284",
   "metadata": {},
   "outputs": [
    {
     "data": {
      "text/plain": [
       "Index(['ID_customer', 'Channel', 'Delicassen', 'Detergents_Paper', 'Fresh',\n",
       "       'Frozen', 'Grocery', 'Milk', 'Region', 'cluster'],\n",
       "      dtype='object')"
      ]
     },
     "execution_count": 46,
     "metadata": {},
     "output_type": "execute_result"
    }
   ],
   "source": [
    "PA8.columns"
   ]
  },
  {
   "cell_type": "code",
   "execution_count": 48,
   "id": "9c4b7894",
   "metadata": {},
   "outputs": [
    {
     "data": {
      "text/plain": [
       "array([[0.00000000e+00, 4.69490819e-03, 0.00000000e+00, 1.68178841e-03,\n",
       "        0.00000000e+00, 0.00000000e+00, 0.00000000e+00, 7.33333333e-01],\n",
       "       [0.00000000e+00, 0.00000000e+00, 2.18420027e-02, 2.95850256e-03,\n",
       "        8.01563885e-03, 2.58457929e-02, 1.35773153e-02, 6.66666667e-01],\n",
       "       [0.00000000e+00, 2.18066130e-02, 9.23970531e-02, 0.00000000e+00,\n",
       "        4.06232286e-03, 1.08513476e-01, 1.34493563e-01, 1.00000000e+00],\n",
       "       [2.50000000e-01, 2.73547899e-02, 8.81381409e-02, 8.12761915e-03,\n",
       "        6.57674811e-04, 8.44482000e-02, 1.39235129e-01, 1.00000000e+00],\n",
       "       [0.00000000e+00, 6.10029189e-02, 2.22609349e-01, 1.38040394e-02,\n",
       "        7.60686307e-03, 5.27421664e-02, 1.18738921e-01, 6.66666667e-01],\n",
       "       [2.00000000e-01, 4.56518046e-02, 1.92087145e-01, 1.39616110e-02,\n",
       "        6.97643998e-03, 1.34082006e-01, 1.71667438e-01, 6.00000000e-01],\n",
       "       [0.00000000e+00, 7.04043181e-02, 3.30923971e-02, 1.50031207e-02,\n",
       "        2.32493496e-02, 1.23434739e-01, 1.54724243e-01, 6.66666667e-01],\n",
       "       [0.00000000e+00, 5.78060570e-02, 1.43262754e-01, 1.23320902e-02,\n",
       "        2.31966629e-02, 1.86471464e-01, 1.34726216e-01, 8.66666667e-01],\n",
       "       [0.00000000e+00, 9.31838891e-02, 2.83602724e-02, 3.35504490e-02,\n",
       "        2.01154019e-02, 2.69303241e-02, 1.08105169e-01, 6.66666667e-01],\n",
       "       [0.00000000e+00, 5.57906442e-02, 5.73097408e-02, 3.31353824e-02,\n",
       "        1.69905382e-02, 7.57625197e-02, 1.45519284e-01, 3.33333333e-01],\n",
       "       [6.00000000e-01, 8.84773980e-02, 3.18666840e-01, 1.11545308e-02,\n",
       "        1.51519556e-02, 2.58325899e-01, 3.62483215e-01, 8.66666667e-01],\n",
       "       [2.50000000e-01, 6.83966271e-02, 2.35019578e-01, 3.27087862e-02,\n",
       "        2.73280235e-02, 1.35053368e-01, 1.46821634e-01, 6.66666667e-01],\n",
       "       [6.00000000e-01, 3.33585582e-02, 3.47616308e-01, 2.05842293e-02,\n",
       "        1.78771275e-02, 2.67077594e-01, 3.07384957e-01, 7.33333333e-01],\n",
       "       [5.00000000e-01, 1.31793331e-01, 2.83454265e-01, 2.61061525e-02,\n",
       "        2.14870718e-02, 2.30312930e-01, 2.78207258e-01, 1.00000000e+00],\n",
       "       [2.50000000e-01, 4.34935368e-02, 2.10523874e-01, 2.84927855e-02,\n",
       "        4.56139267e-02, 1.62223232e-01, 2.84997180e-01, 6.66666667e-01],\n",
       "       [4.00000000e-01, 1.25032818e-01, 2.44177631e-01, 2.16203586e-02,\n",
       "        3.39665422e-02, 3.30512295e-01, 2.08679468e-01, 7.33333333e-01],\n",
       "       [2.50000000e-01, 5.91303609e-02, 1.47730436e-01, 4.90847013e-02,\n",
       "        3.88191649e-02, 1.30064525e-01, 4.45681888e-02, 1.00000000e+00],\n",
       "       [8.00000000e-01, 6.30569412e-02, 4.55712881e-01, 2.74251420e-02,\n",
       "        9.00396785e-03, 4.01476471e-01, 2.69503008e-01, 3.33333333e-01],\n",
       "       [7.50000000e-01, 7.23733996e-02, 4.00945497e-01, 2.25934592e-02,\n",
       "        2.47754458e-02, 4.38797547e-01, 2.23736151e-01, 6.66666667e-01],\n",
       "       [0.00000000e+00, 9.20835199e-03, 3.53424759e-02, 5.51108535e-02,\n",
       "        3.98183945e-02, 1.10854177e-01, 2.08550497e-01, 1.00000000e+00],\n",
       "       [8.00000000e-01, 1.05697209e-01, 3.34384917e-01, 4.09409406e-02,\n",
       "        1.78553261e-02, 2.86512393e-01, 3.42262650e-01, 3.33333333e-01],\n",
       "       [7.50000000e-01, 3.03084122e-02, 6.65364559e-01, 2.93920965e-02,\n",
       "        3.89372556e-02, 3.90408595e-01, 2.58608787e-01, 1.66666667e-01],\n",
       "       [0.00000000e+00, 3.19686182e-02, 7.74908605e-02, 6.02914997e-02,\n",
       "        8.38117524e-02, 6.89629807e-02, 3.82081686e-02, 6.66666667e-01],\n",
       "       [4.00000000e-01, 6.97440966e-02, 1.89303543e-01, 6.66012809e-02,\n",
       "        2.81019723e-02, 1.76203311e-01, 1.53439595e-01, 4.66666667e-01],\n",
       "       [5.00000000e-01, 1.20751031e-01, 3.83153636e-01, 3.58986500e-02,\n",
       "        8.84354607e-02, 2.94187101e-01, 2.29691558e-01, 6.66666667e-01],\n",
       "       [2.00000000e-01, 5.15358836e-02, 1.63787184e-01, 6.02430753e-02,\n",
       "        7.13704344e-02, 1.37031930e-01, 2.49960171e-01, 8.66666667e-01],\n",
       "       [2.50000000e-01, 2.03896465e-01, 1.73617941e-01, 5.02299776e-02,\n",
       "        7.83069052e-02, 1.63543531e-01, 4.50585299e-01, 1.00000000e+00],\n",
       "       [0.00000000e+00, 6.70839060e-02, 5.39462208e-02, 8.35083275e-02,\n",
       "        3.89154543e-03, 2.21664972e-01, 9.45253250e-02, 8.33333333e-01],\n",
       "       [4.00000000e-01, 6.00454047e-02, 6.50138252e-01, 6.63030478e-02,\n",
       "        1.20343590e-02, 3.58065045e-01, 1.82207622e-01, 3.33333333e-01],\n",
       "       [2.50000000e-01, 1.12411391e-01, 1.93149554e-01, 5.79971038e-02,\n",
       "        9.95541619e-02, 2.11479810e-01, 1.12100729e-01, 1.00000000e+00],\n",
       "       [8.00000000e-01, 1.24106191e-01, 3.56839312e-01, 5.73960258e-02,\n",
       "        5.78390477e-02, 3.17995862e-01, 2.58335673e-01, 7.33333333e-01],\n",
       "       [0.00000000e+00, 8.81260521e-02, 1.10012619e-01, 7.16328106e-02,\n",
       "        9.32771827e-02, 1.22963203e-01, 1.57101348e-01, 1.00000000e+00],\n",
       "       [2.50000000e-01, 1.77912310e-01, 2.97488262e-01, 7.47650262e-02,\n",
       "        2.06422685e-02, 2.44949385e-01, 4.07519238e-01, 6.66666667e-01],\n",
       "       [4.00000000e-01, 1.14283949e-01, 4.23887023e-01, 5.57788033e-02,\n",
       "        3.01658358e-02, 4.32710970e-01, 3.86942107e-01, 2.00000000e-01],\n",
       "       [5.00000000e-01, 3.92078887e-02, 3.52905153e-01, 6.04375417e-02,\n",
       "        6.35728093e-02, 3.27071973e-01, 3.09792408e-01, 5.00000000e-01],\n",
       "       [6.00000000e-01, 7.06398357e-02, 4.09467961e-01, 7.70179155e-02,\n",
       "        4.97798061e-02, 2.61675686e-01, 2.22820713e-01, 6.00000000e-01],\n",
       "       [2.50000000e-01, 1.03898009e-01, 1.72829254e-01, 9.48342654e-02,\n",
       "        5.41527986e-02, 1.62279817e-01, 1.30902617e-01, 1.00000000e+00],\n",
       "       [2.50000000e-01, 4.47676484e-02, 1.20567113e-01, 1.07047985e-01,\n",
       "        3.22515007e-02, 1.41013575e-01, 2.05667625e-01, 8.33333333e-01],\n",
       "       [6.00000000e-01, 6.29025034e-02, 4.44819715e-01, 7.30148286e-02,\n",
       "        7.72350043e-02, 3.36246164e-01, 2.93476364e-01, 8.66666667e-01],\n",
       "       [5.00000000e-01, 5.38987815e-02, 3.30682725e-01, 7.85236849e-02,\n",
       "        9.54936558e-02, 2.80361686e-01, 2.60454836e-01, 5.00000000e-01],\n",
       "       [2.50000000e-01, 7.24313138e-02, 2.88789504e-01, 9.13331017e-02,\n",
       "        4.44511867e-02, 2.96893714e-01, 4.06027225e-01, 3.33333333e-01],\n",
       "       [2.00000000e-01, 1.98143658e-02, 1.28917921e-01, 1.27234826e-01,\n",
       "        3.30799529e-02, 1.10799479e-01, 1.23194728e-01, 7.33333333e-01],\n",
       "       [5.00000000e-01, 1.54032370e-01, 1.04167053e-01, 9.46651642e-02,\n",
       "        4.67403311e-02, 3.41340631e-01, 3.32830095e-01, 6.66666667e-01],\n",
       "       [2.00000000e-01, 4.66402063e-02, 1.12810140e-01, 1.04566040e-01,\n",
       "        1.30146941e-01, 9.90676804e-02, 7.87378079e-02, 7.33333333e-01],\n",
       "       [5.00000000e-01, 3.94395453e-02, 2.37617607e-01, 9.73515676e-02,\n",
       "        8.89259916e-02, 2.81531094e-01, 2.26669600e-01, 6.66666667e-01],\n",
       "       [7.50000000e-01, 1.23048293e-01, 4.65710654e-01, 9.69710898e-02,\n",
       "        7.08035987e-02, 3.47281976e-01, 3.29315014e-01, 6.66666667e-01],\n",
       "       [6.00000000e-01, 8.87244985e-02, 1.57700373e-01, 1.23908144e-01,\n",
       "        6.73081116e-02, 1.53396092e-01, 2.54653689e-01, 1.00000000e+00],\n",
       "       [2.50000000e-01, 5.06169789e-02, 9.18496112e-02, 1.07755135e-01,\n",
       "        1.63295932e-01, 8.70510748e-02, 1.64055644e-01, 1.00000000e+00],\n",
       "       [2.00000000e-01, 1.36322219e-01, 2.42117765e-01, 1.27459270e-01,\n",
       "        8.39352935e-02, 2.08343157e-01, 1.71111094e-01, 6.00000000e-01],\n",
       "       [2.50000000e-01, 7.77594168e-02, 1.36665615e-01, 1.48731433e-01,\n",
       "        6.26916704e-02, 1.37561936e-01, 1.71186959e-01, 3.33333333e-01],\n",
       "       [5.00000000e-01, 5.56555111e-02, 4.23678253e-01, 1.04991868e-01,\n",
       "        1.11208814e-01, 3.74555578e-01, 3.28177039e-01, 1.66666667e-01],\n",
       "       [2.00000000e-01, 2.02776791e-02, 9.76673409e-02, 1.21273240e-01,\n",
       "        1.75995233e-01, 1.25835796e-01, 1.11906008e-01, 6.00000000e-01],\n",
       "       [2.50000000e-01, 6.48059489e-02, 3.26020190e-01, 1.08504561e-01,\n",
       "        1.12407889e-01, 4.34676329e-01, 2.39326419e-01, 0.00000000e+00],\n",
       "       [4.00000000e-01, 1.07843894e-01, 2.85746098e-01, 1.30438526e-01,\n",
       "        6.96263244e-02, 3.33492398e-01, 3.53662638e-01, 8.66666667e-01],\n",
       "       [2.50000000e-01, 7.81841207e-02, 5.62348062e-01, 1.32943529e-01,\n",
       "        4.42876764e-02, 4.44691739e-01, 2.79977443e-01, 1.00000000e+00],\n",
       "       [5.00000000e-01, 8.41685843e-03, 3.78839052e-01, 1.52689939e-01,\n",
       "        6.57075273e-02, 2.39017471e-01, 2.40565549e-01, 8.33333333e-01],\n",
       "       [4.00000000e-01, 9.34039629e-02, 2.02071000e-01, 1.58693801e-01,\n",
       "        5.54990335e-02, 2.22338325e-01, 2.84736710e-01, 7.33333333e-01],\n",
       "       [5.00000000e-01, 9.19097775e-02, 2.67170189e-01, 1.45818281e-01,\n",
       "        7.81252271e-02, 2.97459556e-01, 3.10588991e-01, 5.00000000e-01],\n",
       "       [4.00000000e-01, 1.11040756e-01, 3.55781543e-01, 1.70407903e-01,\n",
       "        3.81015363e-02, 2.71196926e-01, 2.41260978e-01, 3.33333333e-01],\n",
       "       [5.00000000e-01, 1.03241649e-01, 8.95531390e-02, 1.94823043e-01,\n",
       "        1.80079357e-02, 1.65071306e-01, 1.62095797e-01, 1.00000000e+00],\n",
       "       [7.50000000e-01, 3.36674337e-02, 5.41099894e-01, 1.42689908e-01,\n",
       "        8.61644841e-02, 4.14249420e-01, 3.77122641e-01, 1.00000000e+00],\n",
       "       [6.00000000e-01, 8.07863971e-02, 5.62937258e-01, 1.51191856e-01,\n",
       "        3.58632618e-02, 4.81954344e-01, 5.39572475e-01, 1.00000000e+00],\n",
       "       [0.00000000e+00, 3.12543436e-02, 5.08378644e-02, 1.60176511e-01,\n",
       "        1.93945031e-01, 1.10674993e-01, 4.96132147e-02, 5.00000000e-01],\n",
       "       [7.50000000e-01, 5.76632021e-02, 6.25164696e-01, 1.46410135e-01,\n",
       "        7.31563304e-02, 4.49378799e-01, 6.43712431e-01, 6.66666667e-01],\n",
       "       [0.00000000e+00, 5.38215626e-02, 3.88219793e-02, 1.61024323e-01,\n",
       "        2.38507042e-01, 9.49257143e-02, 5.26098842e-02, 7.33333333e-01],\n",
       "       [0.00000000e+00, 9.52301895e-02, 5.09074545e-02, 2.17424957e-01,\n",
       "        5.07372498e-02, 6.82179549e-02, 2.85856984e-01, 3.33333333e-01],\n",
       "       [4.00000000e-01, 1.05187565e-01, 3.87997105e-01, 2.01630136e-01,\n",
       "        6.68357484e-02, 2.10810230e-01, 3.48109316e-01, 6.00000000e-01],\n",
       "       [7.50000000e-01, 7.60219919e-02, 2.78977304e-01, 2.19073694e-01,\n",
       "        3.65300205e-02, 3.15585373e-01, 2.31550252e-01, 6.66666667e-01],\n",
       "       [5.00000000e-01, 1.09978996e-01, 2.19872140e-01, 2.24042964e-01,\n",
       "        7.05310815e-02, 2.43365027e-01, 2.36140087e-01, 6.66666667e-01],\n",
       "       [2.00000000e-01, 9.83150839e-02, 1.02418023e-01, 2.05276573e-01,\n",
       "        1.54157522e-01, 1.97124389e-01, 3.54178521e-01, 3.33333333e-01],\n",
       "       [5.00000000e-01, 1.64244568e-01, 9.32414126e-02, 2.36860067e-01,\n",
       "        6.14017557e-02, 2.15817935e-01, 3.66830282e-01, 1.00000000e+00],\n",
       "       [0.00000000e+00, 1.44244877e-01, 1.29623100e-01, 2.22730892e-01,\n",
       "        1.63575716e-01, 1.36835772e-01, 2.15315131e-01, 4.66666667e-01],\n",
       "       [0.00000000e+00, 1.12295563e-01, 4.72887709e-02, 1.85553222e-01,\n",
       "        3.18131113e-01, 1.00461539e-01, 1.34898176e-01, 6.66666667e-01],\n",
       "       [1.00000000e+00, 6.38793223e-02, 5.15931486e-01, 2.27175180e-01,\n",
       "        3.30781361e-02, 5.22598801e-01, 3.90917436e-01, 8.33333333e-01],\n",
       "       [4.00000000e-01, 8.75198839e-02, 3.22675228e-01, 2.50678711e-01,\n",
       "        7.12105577e-02, 3.35310638e-01, 2.26462236e-01, 7.33333333e-01],\n",
       "       [2.50000000e-01, 1.12005992e-01, 4.58798040e-01, 1.99073633e-01,\n",
       "        2.57014592e-01, 3.38190776e-01, 3.08338328e-01, 5.00000000e-01],\n",
       "       [0.00000000e+00, 6.88329138e-02, 9.37517398e-02, 2.93224576e-01,\n",
       "        8.54831911e-02, 9.01349157e-02, 7.79386960e-02, 1.00000000e+00],\n",
       "       [0.00000000e+00, 1.02585288e-01, 6.51502218e-02, 2.88912495e-01,\n",
       "        9.67290670e-02, 1.08741699e-01, 1.48263070e-01, 6.66666667e-01],\n",
       "       [5.00000000e-01, 2.01328937e-01, 5.06444040e-01, 2.25184397e-01,\n",
       "        1.97006308e-01, 3.89701292e-01, 4.49105930e-01, 1.00000000e+00],\n",
       "       [2.00000000e-01, 8.67785826e-02, 2.85040919e-01, 2.71844033e-01,\n",
       "        1.39252649e-01, 2.69212706e-01, 2.45630805e-01, 7.33333333e-01],\n",
       "       [0.00000000e+00, 1.33260490e-01, 2.19579862e-02, 3.36214715e-01,\n",
       "        7.07945148e-02, 2.75338892e-02, 6.01205243e-02, 1.66666667e-01],\n",
       "       [2.50000000e-01, 6.81456657e-02, 1.25090467e-01, 3.01106998e-01,\n",
       "        1.47399096e-01, 1.51698564e-01, 1.47580284e-01, 1.00000000e+00],\n",
       "       [6.00000000e-01, 1.21295424e-01, 2.20906712e-01, 2.83266052e-01,\n",
       "        1.75355726e-01, 2.87689345e-01, 2.71900344e-01, 7.33333333e-01],\n",
       "       [5.00000000e-01, 1.42874241e-01, 8.96890716e-01, 2.33977660e-01,\n",
       "        2.63909277e-01, 6.50158530e-01, 1.39310994e-01, 6.66666667e-01],\n",
       "       [2.00000000e-01, 3.34404102e-01, 1.25057992e-01, 3.38964916e-01,\n",
       "        1.34688894e-01, 2.26404845e-01, 9.43761238e-02, 4.66666667e-01],\n",
       "       [2.50000000e-01, 3.68334080e-02, 1.80901702e-01, 3.78320917e-01,\n",
       "        2.59291019e-02, 2.23155024e-01, 2.66701059e-01, 1.00000000e+00],\n",
       "       [7.50000000e-01, 1.20422851e-01, 5.76985173e-01, 3.12548232e-01,\n",
       "        1.28204802e-01, 5.44864698e-01, 5.62144857e-01, 5.00000000e-01],\n",
       "       [6.00000000e-01, 2.49926642e-01, 3.93768441e-01, 3.76164108e-01,\n",
       "        6.12545965e-02, 4.53941375e-01, 2.77645857e-01, 8.66666667e-01],\n",
       "       [0.00000000e+00, 1.92410156e-01, 2.58318333e-02, 3.76114915e-01,\n",
       "        2.50446928e-01, 1.63458655e-01, 2.59013400e-01, 3.33333333e-01],\n",
       "       [2.00000000e-01, 2.28259023e-01, 1.24723959e-01, 4.28653124e-01,\n",
       "        1.27574379e-01, 1.85807542e-01, 1.84564497e-01, 1.00000000e+00],\n",
       "       [0.00000000e+00, 6.50762150e-02, 3.08423182e-02, 4.20922893e-01,\n",
       "        2.00376437e-01, 1.44493505e-01, 2.77650915e-01, 8.33333333e-01],\n",
       "       [2.50000000e-01, 1.05789872e-01, 9.78343571e-02, 4.66026798e-01,\n",
       "        7.87883523e-02, 3.05155013e-01, 2.94657330e-01, 3.33333333e-01],\n",
       "       [2.00000000e-01, 4.27406527e-01, 1.47883534e-01, 3.96403986e-01,\n",
       "        4.61912998e-01, 2.46435665e-01, 4.94154598e-01, 1.00000000e+00],\n",
       "       [2.50000000e-01, 9.74888419e-02, 4.72692857e-01, 5.12152997e-01,\n",
       "        9.25868058e-02, 3.20923153e-01, 1.00000000e+00, 1.00000000e+00],\n",
       "       [4.00000000e-01, 8.03848589e-02, 5.63401191e-02, 6.00352345e-01,\n",
       "        6.30132407e-02, 1.27993542e-01, 1.44335789e-01, 1.00000000e+00],\n",
       "       [0.00000000e+00, 8.35508332e-02, 2.85922393e-02, 6.01715147e-01,\n",
       "        1.45555063e-01, 1.45521452e-01, 1.65787896e-01, 1.00000000e+00],\n",
       "       [2.50000000e-01, 4.01422372e-01, 1.00000000e+00, 4.60012175e-01,\n",
       "        3.60752801e-01, 1.00000000e+00, 9.21340586e-01, 6.66666667e-01],\n",
       "       [2.00000000e-01, 9.33885191e-02, 5.64997124e-01, 7.06194331e-01,\n",
       "        1.67688909e-01, 5.65978162e-01, 5.46268830e-01, 4.66666667e-01],\n",
       "       [2.50000000e-01, 2.83007212e-01, 6.05308330e-01, 8.12711184e-01,\n",
       "        3.70772350e-01, 5.87689534e-01, 7.66613814e-01, 6.66666667e-01],\n",
       "       [0.00000000e+00, 1.00000000e+00, 1.36674894e-01, 1.00000000e+00,\n",
       "        1.00000000e+00, 4.91694377e-01, 9.65317027e-01, 8.66666667e-01]])"
      ]
     },
     "execution_count": 48,
     "metadata": {},
     "output_type": "execute_result"
    }
   ],
   "source": [
    "F = PA8[['Channel', 'Delicassen', 'Detergents_Paper', 'Fresh',\n",
    "       'Frozen', 'Grocery', 'Milk', 'Region']].values\n",
    "F"
   ]
  },
  {
   "cell_type": "markdown",
   "id": "d2486a5a",
   "metadata": {},
   "source": [
    "##  dendrogram, który pomoże nam określić liczbę klastrów dla tego konkretnego problemu"
   ]
  },
  {
   "cell_type": "code",
   "execution_count": 49,
   "id": "8130ed23",
   "metadata": {},
   "outputs": [
    {
     "data": {
      "image/png": "[encoded data removed]",
      "text/plain": [
       "<Figure size 1600x300 with 1 Axes>"
      ]
     },
     "metadata": {},
     "output_type": "display_data"
    }
   ],
   "source": [
    "import scipy.cluster.hierarchy as shc\n",
    "plt.figure(figsize=(16, 3))  \n",
    "plt.title(\"Dendrograms\")  \n",
    "dend = shc.dendrogram(shc.linkage(F, method='ward'))"
   ]
  },
  {
   "cell_type": "markdown",
   "id": "0a33e78e",
   "metadata": {},
   "source": [
    "# Analizujemy próbkę ('klientów')  13 i 14"
   ]
  },
  {
   "cell_type": "markdown",
   "id": "9ff81826",
   "metadata": {},
   "source": [
    "PA8.loc[[13, 14], :]"
   ]
  },
  {
   "cell_type": "markdown",
   "id": "9932b4e1",
   "metadata": {},
   "source": [
    "# Analizujemy próbkę ('klientów') 5 i 6"
   ]
  },
  {
   "cell_type": "markdown",
   "id": "c58824dd",
   "metadata": {},
   "source": [
    "PA8.loc[[5, 6], :]"
   ]
  },
  {
   "cell_type": "markdown",
   "id": "af0b053f",
   "metadata": {},
   "source": [
    "# Analizujemy próbkę ('klientów') 13 i 6"
   ]
  },
  {
   "cell_type": "markdown",
   "id": "6b05c0ef",
   "metadata": {},
   "source": [
    "PA8.loc[[13, 6], :]"
   ]
  },
  {
   "cell_type": "markdown",
   "id": "f8a906ae",
   "metadata": {},
   "source": [
    "# Klienci zostali przypisani -- TWORZYMY 3 KLASTRY\n",
    "\n",
    "DLACZEGO TRZY ---> BO W POŁOWIE OSI Y jest wartość 25/2 = 13 \n",
    "na wysokości 13 są 3 gałęzie"
   ]
  },
  {
   "cell_type": "code",
   "execution_count": 50,
   "id": "384ba1c3",
   "metadata": {},
   "outputs": [],
   "source": [
    "from sklearn.cluster import AgglomerativeClustering\n",
    "\n",
    "cluster = AgglomerativeClustering(n_clusters=3, affinity='euclidean', linkage='ward')  \n",
    "PA8['cluster']= cluster.fit_predict(F)"
   ]
  },
  {
   "cell_type": "code",
   "execution_count": 51,
   "id": "33417834",
   "metadata": {},
   "outputs": [
    {
     "data": {
      "text/plain": [
       "0     0\n",
       "1     0\n",
       "2     0\n",
       "3     0\n",
       "4     0\n",
       "     ..\n",
       "95    0\n",
       "96    2\n",
       "97    2\n",
       "98    2\n",
       "99    2\n",
       "Name: cluster, Length: 100, dtype: int64"
      ]
     },
     "execution_count": 51,
     "metadata": {},
     "output_type": "execute_result"
    }
   ],
   "source": [
    "PA8['cluster']"
   ]
  },
  {
   "cell_type": "code",
   "execution_count": 52,
   "id": "42a3a761",
   "metadata": {},
   "outputs": [
    {
     "data": {
      "text/plain": [
       "Index(['ID_customer', 'Channel', 'Delicassen', 'Detergents_Paper', 'Fresh',\n",
       "       'Frozen', 'Grocery', 'Milk', 'Region', 'cluster'],\n",
       "      dtype='object')"
      ]
     },
     "execution_count": 52,
     "metadata": {},
     "output_type": "execute_result"
    }
   ],
   "source": [
    "PA8.columns"
   ]
  },
  {
   "cell_type": "code",
   "execution_count": 60,
   "id": "46b432df",
   "metadata": {},
   "outputs": [
    {
     "data": {
      "text/plain": [
       "Text(0.5, 0, 'Fresh')"
      ]
     },
     "execution_count": 60,
     "metadata": {},
     "output_type": "execute_result"
    },
    {
     "data": {
      "image/png": "[encoded data removed]",
      "text/plain": [
       "<Figure size 600x300 with 1 Axes>"
      ]
     },
     "metadata": {},
     "output_type": "display_data"
    }
   ],
   "source": [
    "plt.figure(figsize=(6, 3))  \n",
    "plt.scatter(PA8['Fresh'], PA8['Grocery'], c=cluster.labels_)\n",
    "plt.ylabel('Grocery')\n",
    "plt.xlabel('Fresh')\n"
   ]
  },
  {
   "cell_type": "markdown",
   "id": "9025d3aa",
   "metadata": {},
   "source": [
    "MAMY TUTAJ 8 WYMIARÓW PORÓWNAŃ, gdyby były dwa wymiary byłoby lepie widać, że mechanizm działa dobrze "
   ]
  },
  {
   "cell_type": "markdown",
   "id": "5d0d294b",
   "metadata": {},
   "source": [
    "# KLASTROWNANIE DLA DWÓCH PRODUKTÓW"
   ]
  },
  {
   "cell_type": "code",
   "execution_count": 32,
   "id": "142f31f6",
   "metadata": {},
   "outputs": [
    {
     "data": {
      "text/plain": [
       "Index(['ID_customer', 'Channel', 'Delicassen', 'Detergents_Paper', 'Fresh',\n",
       "       'Frozen', 'Grocery', 'Milk', 'Region', 'cluster'],\n",
       "      dtype='object')"
      ]
     },
     "execution_count": 32,
     "metadata": {},
     "output_type": "execute_result"
    }
   ],
   "source": [
    "PA8.columns"
   ]
  },
  {
   "cell_type": "code",
   "execution_count": 38,
   "id": "5fc8b262",
   "metadata": {},
   "outputs": [
    {
     "data": {
      "text/plain": [
       "array([[0.        , 0.        ],\n",
       "       [0.02584579, 0.01357732],\n",
       "       [0.10851348, 0.13449356],\n",
       "       [0.0844482 , 0.13923513],\n",
       "       [0.05274217, 0.11873892],\n",
       "       [0.13408201, 0.17166744],\n",
       "       [0.12343474, 0.15472424],\n",
       "       [0.18647146, 0.13472622],\n",
       "       [0.02693032, 0.10810517],\n",
       "       [0.07576252, 0.14551928],\n",
       "       [0.2583259 , 0.36248321],\n",
       "       [0.13505337, 0.14682163],\n",
       "       [0.26707759, 0.30738496],\n",
       "       [0.23031293, 0.27820726],\n",
       "       [0.16222323, 0.28499718],\n",
       "       [0.33051229, 0.20867947],\n",
       "       [0.13006452, 0.04456819],\n",
       "       [0.40147647, 0.26950301],\n",
       "       [0.43879755, 0.22373615],\n",
       "       [0.11085418, 0.2085505 ],\n",
       "       [0.28651239, 0.34226265],\n",
       "       [0.39040859, 0.25860879],\n",
       "       [0.06896298, 0.03820817],\n",
       "       [0.17620331, 0.15343959],\n",
       "       [0.2941871 , 0.22969156],\n",
       "       [0.13703193, 0.24996017],\n",
       "       [0.16354353, 0.4505853 ],\n",
       "       [0.22166497, 0.09452533],\n",
       "       [0.35806505, 0.18220762],\n",
       "       [0.21147981, 0.11210073],\n",
       "       [0.31799586, 0.25833567],\n",
       "       [0.1229632 , 0.15710135],\n",
       "       [0.24494939, 0.40751924],\n",
       "       [0.43271097, 0.38694211],\n",
       "       [0.32707197, 0.30979241],\n",
       "       [0.26167569, 0.22282071],\n",
       "       [0.16227982, 0.13090262],\n",
       "       [0.14101357, 0.20566763],\n",
       "       [0.33624616, 0.29347636],\n",
       "       [0.28036169, 0.26045484],\n",
       "       [0.29689371, 0.40602723],\n",
       "       [0.11079948, 0.12319473],\n",
       "       [0.34134063, 0.3328301 ],\n",
       "       [0.09906768, 0.07873781],\n",
       "       [0.28153109, 0.2266696 ],\n",
       "       [0.34728198, 0.32931501],\n",
       "       [0.15339609, 0.25465369],\n",
       "       [0.08705107, 0.16405564],\n",
       "       [0.20834316, 0.17111109],\n",
       "       [0.13756194, 0.17118696],\n",
       "       [0.37455558, 0.32817704],\n",
       "       [0.1258358 , 0.11190601],\n",
       "       [0.43467633, 0.23932642],\n",
       "       [0.3334924 , 0.35366264],\n",
       "       [0.44469174, 0.27997744],\n",
       "       [0.23901747, 0.24056555],\n",
       "       [0.22233832, 0.28473671],\n",
       "       [0.29745956, 0.31058899],\n",
       "       [0.27119693, 0.24126098],\n",
       "       [0.16507131, 0.1620958 ],\n",
       "       [0.41424942, 0.37712264],\n",
       "       [0.48195434, 0.53957248],\n",
       "       [0.11067499, 0.04961321],\n",
       "       [0.4493788 , 0.64371243],\n",
       "       [0.09492571, 0.05260988],\n",
       "       [0.06821795, 0.28585698],\n",
       "       [0.21081023, 0.34810932],\n",
       "       [0.31558537, 0.23155025],\n",
       "       [0.24336503, 0.23614009],\n",
       "       [0.19712439, 0.35417852],\n",
       "       [0.21581793, 0.36683028],\n",
       "       [0.13683577, 0.21531513],\n",
       "       [0.10046154, 0.13489818],\n",
       "       [0.5225988 , 0.39091744],\n",
       "       [0.33531064, 0.22646224],\n",
       "       [0.33819078, 0.30833833],\n",
       "       [0.09013492, 0.0779387 ],\n",
       "       [0.1087417 , 0.14826307],\n",
       "       [0.38970129, 0.44910593],\n",
       "       [0.26921271, 0.24563081],\n",
       "       [0.02753389, 0.06012052],\n",
       "       [0.15169856, 0.14758028],\n",
       "       [0.28768934, 0.27190034],\n",
       "       [0.65015853, 0.13931099],\n",
       "       [0.22640485, 0.09437612],\n",
       "       [0.22315502, 0.26670106],\n",
       "       [0.5448647 , 0.56214486],\n",
       "       [0.45394137, 0.27764586],\n",
       "       [0.16345865, 0.2590134 ],\n",
       "       [0.18580754, 0.1845645 ],\n",
       "       [0.14449351, 0.27765091],\n",
       "       [0.30515501, 0.29465733],\n",
       "       [0.24643566, 0.4941546 ],\n",
       "       [0.32092315, 1.        ],\n",
       "       [0.12799354, 0.14433579],\n",
       "       [0.14552145, 0.1657879 ],\n",
       "       [1.        , 0.92134059],\n",
       "       [0.56597816, 0.54626883],\n",
       "       [0.58768953, 0.76661381],\n",
       "       [0.49169438, 0.96531703]])"
      ]
     },
     "execution_count": 38,
     "metadata": {},
     "output_type": "execute_result"
    }
   ],
   "source": [
    "X = PA8[['Grocery', 'Milk']].values\n",
    "X"
   ]
  },
  {
   "cell_type": "code",
   "execution_count": 39,
   "id": "51dcc489",
   "metadata": {},
   "outputs": [
    {
     "data": {
      "image/png": "[encoded data removed]",
      "text/plain": [
       "<Figure size 640x480 with 1 Axes>"
      ]
     },
     "metadata": {},
     "output_type": "display_data"
    }
   ],
   "source": [
    "import scipy.cluster.hierarchy as sch\n",
    "\n",
    "dendrogram = sch.dendrogram(sch.linkage(X, method='ward'))"
   ]
  },
  {
   "cell_type": "code",
   "execution_count": 41,
   "id": "58505850",
   "metadata": {},
   "outputs": [
    {
     "data": {
      "text/plain": [
       "array([2, 2, 2, 2, 2, 2, 2, 2, 2, 2, 1, 2, 1, 1, 2, 1, 2, 4, 4, 2, 1, 4,\n",
       "       2, 2, 1, 2, 1, 2, 1, 2, 1, 2, 1, 4, 4, 1, 2, 2, 4, 1, 1, 2, 4, 2,\n",
       "       1, 4, 2, 2, 2, 2, 4, 2, 4, 4, 4, 1, 1, 1, 1, 2, 4, 0, 2, 0, 2, 2,\n",
       "       1, 1, 1, 1, 1, 2, 2, 4, 1, 4, 2, 2, 4, 1, 2, 2, 1, 4, 2, 1, 0, 4,\n",
       "       2, 2, 2, 1, 1, 0, 2, 2, 3, 0, 0, 0])"
      ]
     },
     "execution_count": 41,
     "metadata": {},
     "output_type": "execute_result"
    }
   ],
   "source": [
    "model = AgglomerativeClustering(n_clusters=5, affinity='euclidean', linkage='ward')\n",
    "model.fit(X)\n",
    "labels = model.labels_\n",
    "labels"
   ]
  },
  {
   "cell_type": "code",
   "execution_count": 42,
   "id": "4471044e",
   "metadata": {},
   "outputs": [
    {
     "data": {
      "image/png": "[encoded data removed]",
      "text/plain": [
       "<Figure size 640x480 with 1 Axes>"
      ]
     },
     "metadata": {},
     "output_type": "display_data"
    }
   ],
   "source": [
    "plt.scatter(X[labels==0, 0], X[labels==0, 1], s=50, marker='o', color='red')\n",
    "plt.scatter(X[labels==1, 0], X[labels==1, 1], s=50, marker='o', color='blue')\n",
    "plt.scatter(X[labels==2, 0], X[labels==2, 1], s=50, marker='o', color='green')\n",
    "plt.scatter(X[labels==3, 0], X[labels==3, 1], s=50, marker='o', color='purple')\n",
    "plt.scatter(X[labels==4, 0], X[labels==4, 1], s=50, marker='o', color='orange')\n",
    "plt.show()"
   ]
  },
  {
   "cell_type": "code",
   "execution_count": 45,
   "id": "03ced755",
   "metadata": {},
   "outputs": [
    {
     "data": {
      "text/plain": [
       "array([2, 2, 2, 2, 2, 2, 2, 2, 2, 2, 1, 2, 1, 1, 2, 1, 2, 4, 4, 2, 1, 4,\n",
       "       2, 2, 1, 2, 1, 2, 1, 2, 1, 2, 1, 4, 4, 1, 2, 2, 4, 1, 1, 2, 4, 2,\n",
       "       1, 4, 2, 2, 2, 2, 4, 2, 4, 4, 4, 1, 1, 1, 1, 2, 4, 0, 2, 0, 2, 2,\n",
       "       1, 1, 1, 1, 1, 2, 2, 4, 1, 4, 2, 2, 4, 1, 2, 2, 1, 4, 2, 1, 0, 4,\n",
       "       2, 2, 2, 1, 1, 0, 2, 2, 3, 0, 0, 0])"
      ]
     },
     "execution_count": 45,
     "metadata": {},
     "output_type": "execute_result"
    }
   ],
   "source": [
    "labels"
   ]
  },
  {
   "cell_type": "code",
   "execution_count": null,
   "id": "dc04f69a",
   "metadata": {},
   "outputs": [],
   "source": []
  },
  {
   "cell_type": "code",
   "execution_count": null,
   "id": "860eac78",
   "metadata": {},
   "outputs": [],
   "source": []
  },
  {
   "cell_type": "code",
   "execution_count": null,
   "id": "0098af37",
   "metadata": {},
   "outputs": [],
   "source": []
  },
  {
   "cell_type": "code",
   "execution_count": null,
   "id": "aa300257",
   "metadata": {},
   "outputs": [],
   "source": []
  },
  {
   "cell_type": "code",
   "execution_count": null,
   "id": "21405799",
   "metadata": {},
   "outputs": [],
   "source": []
  },
  {
   "cell_type": "code",
   "execution_count": null,
   "id": "6dac7689",
   "metadata": {},
   "outputs": [],
   "source": []
  },
  {
   "cell_type": "code",
   "execution_count": null,
   "id": "8be9e627",
   "metadata": {},
   "outputs": [],
   "source": []
  },
  {
   "cell_type": "code",
   "execution_count": null,
   "id": "9a74c31e",
   "metadata": {},
   "outputs": [],
   "source": []
  },
  {
   "cell_type": "code",
   "execution_count": null,
   "id": "3e9541fe",
   "metadata": {},
   "outputs": [],
   "source": []
  },
  {
   "cell_type": "code",
   "execution_count": null,
   "id": "126e966a",
   "metadata": {},
   "outputs": [],
   "source": []
  },
  {
   "cell_type": "code",
   "execution_count": null,
   "id": "b1dd9854",
   "metadata": {},
   "outputs": [],
   "source": []
  },
  {
   "cell_type": "markdown",
   "id": "16afd22e",
   "metadata": {},
   "source": [
    "## WYBÓR WŁAŚCIWEJ METODY POMIARU PODOBIEŃSTWA"
   ]
  },
  {
   "attachments": {
    "image.png": {
     "image/png": "[encoded data removed]"
    }
   },
   "cell_type": "markdown",
   "id": "873923cf",
   "metadata": {},
   "source": [
    "![image.png](attachment:image.png)"
   ]
  },
  {
   "attachments": {
    "image.png": {
     "image/png": "[encoded data removed]"
    }
   },
   "cell_type": "markdown",
   "id": "d976a526",
   "metadata": {},
   "source": [
    "WYBÓR: ![image.png](attachment:image.png)"
   ]
  },
  {
   "cell_type": "code",
   "execution_count": null,
   "id": "40e82fe9",
   "metadata": {},
   "outputs": [],
   "source": []
  },
  {
   "cell_type": "markdown",
   "id": "f153799e",
   "metadata": {},
   "source": [
    "..."
   ]
  }
 ],
 "metadata": {
  "kernelspec": {
   "display_name": "Python 3 (ipykernel)",
   "language": "python",
   "name": "python3"
  },
  "language_info": {
   "codemirror_mode": {
    "name": "ipython",
    "version": 3
   },
   "file_extension": ".py",
   "mimetype": "text/x-python",
   "name": "python",
   "nbconvert_exporter": "python",
   "pygments_lexer": "ipython3",
   "version": "3.9.13"
  }
 },
 "nbformat": 4,
 "nbformat_minor": 5
}
